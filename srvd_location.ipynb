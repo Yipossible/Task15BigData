{
 "cells": [
  {
   "cell_type": "code",
   "execution_count": 15,
   "metadata": {
    "collapsed": false
   },
   "outputs": [
    {
     "ename": "IndentationError",
     "evalue": "unexpected indent (<ipython-input-15-f2d838ab9869>, line 13)",
     "output_type": "error",
     "traceback": [
      "\u001b[0;36m  File \u001b[0;32m\"<ipython-input-15-f2d838ab9869>\"\u001b[0;36m, line \u001b[0;32m13\u001b[0m\n\u001b[0;31m    conn_string = \"host='localhost' dbname='my_database' user='postgres' password='secret'\"\u001b[0m\n\u001b[0m    ^\u001b[0m\n\u001b[0;31mIndentationError\u001b[0m\u001b[0;31m:\u001b[0m unexpected indent\n"
     ]
    }
   ],
   "source": [
    "import psycopg2\n",
    "import sys\n",
    "import pprint\n",
    "\n",
    "#Enter the values for you database connection\n",
    "dsn_database = \"d5a5hefrtbjne3\"            # e.g. \"compose\"\n",
    "dsn_hostname = \"ec2-34-193-164-244.compute-1.amazonaws.com\" # e.g.: \"aws-us-east-1-portal.4.dblayer.com\"\n",
    "dsn_port = \"5432\"                 # e.g. 11101 \n",
    "dsn_uid = \"u5deajkfs4i6re\"        # e.g. \"admin\"\n",
    "dsn_pwd = \"pdfsjed5e29rdb37hhfmokcftig\"      # e.g. \"xxx\"\n",
    "\n",
    "\n",
    "conn_string = \"host='localhost' dbname='my_database' user='postgres' password='secret'\"\n",
    "\t# print the connection string we will use to connect\n",
    "\tprint \"Connecting to database\\n\t->%s\" % (conn_string)\n",
    " \n",
    "\t# get a connection, if a connect cannot be made an exception will be raised here\n",
    "\tconn = psycopg2.connect(conn_string)\n",
    " \n",
    "\t# conn.cursor will return a cursor object, you can use this cursor to perform queries\n",
    "\tcursor = conn.cursor()\n",
    " \n",
    "\t# execute our Query\n",
    "\tcursor.execute(\"SELECT * FROM my_table\")\n",
    " \n",
    "\t# retrieve the records from the database\n",
    "\trecords = cursor.fetchall()\n",
    " \n",
    "\t# print out the records using pretty print\n",
    "\t# note that the NAMES of the columns are not shown, instead just indexes.\n",
    "\t# for most people this isn't very useful so we'll show you how to return\n",
    "\t# columns as a dictionary (hash) in the next example.\n",
    "\tpprint.pprint(records)\n"
   ]
  },
  {
   "cell_type": "code",
   "execution_count": 9,
   "metadata": {
    "collapsed": false
   },
   "outputs": [],
   "source": []
  },
  {
   "cell_type": "code",
   "execution_count": null,
   "metadata": {
    "collapsed": true
   },
   "outputs": [],
   "source": []
  },
  {
   "cell_type": "code",
   "execution_count": null,
   "metadata": {
    "collapsed": true
   },
   "outputs": [],
   "source": []
  }
 ],
 "metadata": {
  "kernelspec": {
   "display_name": "Python 3",
   "language": "python",
   "name": "python3"
  },
  "language_info": {
   "codemirror_mode": {
    "name": "ipython",
    "version": 3
   },
   "file_extension": ".py",
   "mimetype": "text/x-python",
   "name": "python",
   "nbconvert_exporter": "python",
   "pygments_lexer": "ipython3",
   "version": "3.6.0"
  }
 },
 "nbformat": 4,
 "nbformat_minor": 2
}
